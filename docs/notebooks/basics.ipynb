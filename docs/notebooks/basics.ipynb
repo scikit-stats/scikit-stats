{
 "cells": [
  {
   "cell_type": "markdown",
   "id": "0874b43d-35a5-430d-b1fa-aac07629c3b6",
   "metadata": {},
   "source": [
    "# A basic tutorial\n",
    "\n",
    "This is an example. It will be awesome we promise! "
   ]
  },
  {
   "cell_type": "code",
   "execution_count": null,
   "id": "8d2a58d96886efed",
   "metadata": {},
   "outputs": [],
   "source": []
  }
 ],
 "metadata": {
  "kernelspec": {
   "display_name": "Python 3 (ipykernel)",
   "language": "python",
   "name": "python3"
  },
  "language_info": {
   "codemirror_mode": {
    "name": "ipython",
    "version": 3
   },
   "file_extension": ".py",
   "mimetype": "text/x-python",
   "name": "python",
   "nbconvert_exporter": "python",
   "pygments_lexer": "ipython3",
   "version": "3.12.1"
  }
 },
 "nbformat": 4,
 "nbformat_minor": 5
}
